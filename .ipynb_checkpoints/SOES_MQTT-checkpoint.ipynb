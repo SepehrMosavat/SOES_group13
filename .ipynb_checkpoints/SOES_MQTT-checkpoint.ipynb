{
 "cells": [
  {
   "cell_type": "code",
   "execution_count": 1,
   "metadata": {
    "collapsed": true
   },
   "outputs": [],
   "source": [
    "import paho.mqtt.client as mqtt\n",
    "import threading\n",
    "import pyowm\n",
    "import time\n",
    "import numpy as np\n",
    "import matplotlib.pyplot as plt\n",
    "\n"
   ]
  },
  {
   "cell_type": "code",
   "execution_count": null,
   "metadata": {
    "collapsed": true
   },
   "outputs": [],
   "source": [
    "# initializing the global variabls\n",
    "current_state = 0\n",
    "#temperature = 0\n",
    "#forecastData = \"N/A\"\n"
   ]
  },
  {
   "cell_type": "code",
   "execution_count": null,
   "metadata": {
    "collapsed": true
   },
   "outputs": [],
   "source": [
    "# methods to set the MQTT connection\n",
    "def on_disconnect(client, userdate, flags, rc):\n",
    "    print(\"Subcscriber disconnected...\")\n",
    "\n",
    "def on_connect(client, userdata, flags, rc):\n",
    "    print(\"Connected with result code \" + str(rc))\n",
    "    client.subscribe(\"state/Node1\", 0) #subscribe(topic, qos=0)\n",
    "    #client.subscribe(\"state/Node2\", 0)\n",
    "    #client.subscribe(\"state/Node3\", 0)\n",
    "\n",
    "def on_message(client, userdata, msg):\n",
    "    global current_state\n",
    "    #decodedData = bytes.decode(msg.payload)\n",
    "    #print (decodedData)\n",
    "    #dataList=decodedData.split(\"\\r\\n\")\n",
    "    #dataValue=float(dataList[0])\n",
    "    #if dataValue < 110:\n",
    "    #    humidity = dataValue\n",
    "    #else:\n",
    "    #    temperature = dataValue\n",
    "    #print (str(humidity) + \"  \" + str(temperature))\n",
    "    #print(float(dataList[0]))\n",
    "\n",
    "def mqttSubscriber():\n",
    "    client = mqtt.Client()\n",
    "    client.on_connect = on_connect\n",
    "    client.on_message = on_message\n",
    "    client.on_disconnect = on_disconnect\n",
    "    client.connect(\"134.91.42.86\",1883,60) #169.254.107.4\n",
    "    client.loop_forever()"
   ]
  },
  {
   "cell_type": "code",
   "execution_count": null,
   "metadata": {
    "collapsed": true
   },
   "outputs": [],
   "source": [
    "def getWeatherForcast():\n",
    "\tglobal humidity\n",
    "\tglobal temperature\n",
    "\tglobal forecastData\n",
    "\towm = pyowm.OWM(API_key='02d763427c81b5e9f9b2b17f5d28a1f7')\n",
    "\tobservation = owm.weather_at_place('Duisburg,de')\n",
    "\tfrcst = owm.daily_forecast('Duisburg,de',limit=1)\n",
    "\twhile True:\n",
    "\t\tfc = frcst.get_forecast()\n",
    "\t\tfor weather in fc:\n",
    "\t\t\t#print(weather.get_reference_time('iso'),weather.get_status())\n",
    "\t\t\t#print (weather.get_status())\n",
    "\t\t\tforecastData = weather.get_status()\n",
    "\t\t\tprint(\"Soil Humidity: \" + str(humidity) + \",Soil Temperature: \" + str(temperature) + \", Weather Forcast: \" + forecastData);\t\n",
    "\t\ttime.sleep(100)\n",
    "\t\t\n",
    "\n",
    "\t\n",
    "\n",
    "\t\t\n",
    "def logicFunction():\n",
    "\tglobal temperature\n",
    "\tglobal humidity\n",
    "\tglobal forecastData\t\n",
    "\tirrigationFlag = 0\n",
    "\tlogFile = open (\"log.txt\", \"a\")\n",
    "\tclient = mqtt.Client()\n",
    "\tclient.connect(\"169.254.107.4\",1883,60)\n",
    "\twhile True:\n",
    "\t\tif forecastData == \"Rain\":\n",
    "\t\t\tprint(\"The weather will be rainy, there will be no irrigation\")\n",
    "\t\t\tlogFile = open (\"log.txt\", \"a\")\n",
    "\t\t\tlogFile.write(time.strftime(\"%d.%m.%Y @ %H:%M:%S: \") + \"The weather will be rainy, there will be no irrigation\\n\")\n",
    "\t\t\tlogFile.close()\n",
    "\t\telse:\n",
    "\t\t\tif (temperature > 275 and humidity < 50 and irrigationFlag == 0):\n",
    "\t\t\t\tclient.publish(\"topic/command\", \"1\")\n",
    "\t\t\t\tirrigationFlag = 1\n",
    "\t\t\t\tprint(\"Irrigation started...\")\n",
    "\t\t\t\tlogFile = open (\"log.txt\", \"a\")\n",
    "\t\t\t\tlogFile.write(time.strftime(\"%d.%m.%Y @ %H:%M:%S: \") + \"Irrigation started...\\n\")\n",
    "\t\t\t\tlogFile.close()\n",
    "\t\t\telif ( (temperature < 275 or humidity > 50 ) and irrigationFlag == 1):\n",
    "\t\t\t\tclient.publish(\"topic/command\", \"0\")\n",
    "\t\t\t\tirrigationFlag = 0\n",
    "\t\t\t\tprint(\"Irrigation stopped...\")\n",
    "\t\t\t\tlogFile = open (\"log.txt\", \"a\")\n",
    "\t\t\t\tlogFile.write(time.strftime(\"%d.%m.%Y @ %H:%M:%S: \") + \"Irrigation stopped...\\n\")\n",
    "\t\t\t\tlogFile.close()\n",
    "\t\t\telse:\n",
    "\t\t\t\tprint(\"Current Temp: \" + str(temperature) + \", Current Humidity: \" + str(humidity) + \", Weather: \" + forecastData + \"              -- Standing by--\")\n",
    "\t\t\t\tlogFile = open (\"log.txt\", \"a\")\n",
    "\t\t\t\tlogFile.write(time.strftime(\"%d.%m.%Y @ %H:%M:%S: \") + \"Current Temp: \" + str(temperature) + \", Current Humidity: \" + str(humidity) + \", Weather: \" + forecastData + \"              -- Standing by--\\n\")\n",
    "\t\t\t\tlogFile.close()\n",
    "\t\ttime.sleep(5)\n",
    "\tclient.disconnect()\n",
    "\tlogFile.close()\n",
    "\t\n",
    "t1 = threading.Thread(target=getWeatherForcast, args=())\n",
    "t2 = threading.Thread(target=mqttSubscriber, args=())\n",
    "t3 = threading.Thread(target=plotTemp, args=())\n",
    "t4 = threading.Thread(target=logicFunction, args=())\n",
    "t1.daemon = True\n",
    "t2.daemon = True\n",
    "t3.daemon = True\n",
    "t4.daemon = True\n",
    "t1.start()\n",
    "t2.start()\n",
    "t3.start()\n",
    "t4.start()\n",
    "while True:\n",
    "\ttime.sleep(1)"
   ]
  },
  {
   "cell_type": "code",
   "execution_count": null,
   "metadata": {
    "collapsed": true
   },
   "outputs": [],
   "source": [
    "def plotTemp():\n",
    "\tglobal temperature\n",
    "\tglobal humidity\n",
    "\tplt.suptitle(\"Temperature & Humidity\")\n",
    "\tplt.axis([0, 1000, 0, 350])\n",
    "\tplt.ion()\n",
    "\tfor i in range (1000):\n",
    "\t\tplt.scatter(i, temperature)\n",
    "\t\tplt.scatter(i, humidity)\n",
    "\t\tplt.pause(6)"
   ]
  },
  {
   "cell_type": "code",
   "execution_count": null,
   "metadata": {
    "collapsed": true
   },
   "outputs": [],
   "source": [
    "import paho.mqtt.client as mqtt #import the client1\n",
    "import time\n",
    "############\n",
    "def on_message(client, userdata, message):\n",
    "print(\"message received \" ,str(message.payload.decode(\"utf-8\")))\n",
    "print(\"message topic=\",message.topic)\n",
    "print(\"message qos=\",message.qos)\n",
    "print(\"message retain flag=\",message.retain)\n",
    "########################################\n",
    "broker_address=\"134.91.42.86\"\n",
    "#broker_address=\"iot.eclipse.org\"\n",
    "print(\"creating new instance\")\n",
    "client = mqtt.Client(\"P1\") #create new instance\n",
    "client.on_message=on_message #attach function to callback\n",
    "print(\"connecting to broker\")\n",
    "client.connect(broker_address) #connect to broker\n",
    "client.loop_start() #start the loop\n",
    "print(\"Subscribing to topic\",\"house/bulbs/bulb1\")\n",
    "client.subscribe(\"house/bulbs/bulb1\")\n",
    "print(\"Publishing message to topic\",\"house/bulbs/bulb1\")\n",
    "client.publish(\"house/bulbs/bulb1\",\"OFF\")\n",
    "time.sleep(4) # wait\n",
    "client.loop_stop() #stop the loop"
   ]
  },
  {
   "cell_type": "code",
   "execution_count": 4,
   "metadata": {},
   "outputs": [],
   "source": [
    "def on_message(client, userdata, message):\n",
    "    print(\"message received \" ,str(message.payload.decode(\"utf-8\")))\n",
    "    print(\"message topic=\",message.topic)\n",
    "    print(\"message qos=\",message.qos)\n",
    "    print(\"message retain flag=\",message.retain)"
   ]
  },
  {
   "cell_type": "code",
   "execution_count": null,
   "metadata": {
    "collapsed": true
   },
   "outputs": [],
   "source": []
  },
  {
   "cell_type": "code",
   "execution_count": null,
   "metadata": {},
   "outputs": [],
   "source": [
    "client = mqtt.Client(\"P1\")\n",
    "#client.on_disconnect = on_disconnect\n",
    "client.connect(\"134.91.40.167\",1883,2) #169.254.107.4\n",
    "client.publish(\"Topic/Topic1\", \"Hamed HEllo\", 0)\n",
    "client.on_message=on_message #attach function to callback\n",
    "client.loop_forever()\n"
   ]
  },
  {
   "cell_type": "code",
   "execution_count": null,
   "metadata": {
    "collapsed": true
   },
   "outputs": [],
   "source": []
  }
 ],
 "metadata": {
  "kernelspec": {
   "display_name": "Python 3",
   "language": "python",
   "name": "python3"
  },
  "language_info": {
   "codemirror_mode": {
    "name": "ipython",
    "version": 3
   },
   "file_extension": ".py",
   "mimetype": "text/x-python",
   "name": "python",
   "nbconvert_exporter": "python",
   "pygments_lexer": "ipython3",
   "version": "3.6.3"
  }
 },
 "nbformat": 4,
 "nbformat_minor": 2
}
